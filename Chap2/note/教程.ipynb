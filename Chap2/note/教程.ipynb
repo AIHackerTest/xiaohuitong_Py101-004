{
 "cells": [
  {
   "cell_type": "markdown",
   "metadata": {},
   "source": [
    "#### API定义：\n",
    "\n",
    "应用程序接口（英语：Application Programming Interface，简称：API），又称为应用编程接口，就是软件系统不同组成部分衔接的约定。由于近年来软件的规模日益庞大，常常需要把复杂的系统划分成小的组成部分，编程接口的设计十分重要。程序设计的实践中，编程接口的设计首先要使软件系统的职责得到合理划分。良好的接口设计可以降低系统各部分的相互依赖，提高组成单元的内聚性，降低组成单元间的耦合程度，从而提高系统的维护性和扩展性。\n",
    "\n",
    "#### json定义：\n",
    "\n",
    "JSON(JavaScript Object Notation) 是一种轻量级的数据交换格式。 易于人阅读和编写。同时也易于机器解析和生成。 它基于JavaScript Programming Language, Standard ECMA-262 3rd Edition - December 1999的一个子集。 JSON采用完全独立于语言的文本格式，但是也使用了类似于C语言家族的习惯（包括C, C++, C#, Java, JavaScript, Perl, Python等）。 这些特性使JSON成为理想的数据交换语言。\n",
    "\n",
    "#### 本次的任务：\n",
    "\n",
    "通过 API 获取真实、即时的数据,完成一个在命令行界面下天气查询程序，实现以下功能：\n",
    "\n",
    "输入城市名，返回该城市最新的天气数据；\n",
    "\n",
    "输入指令，获取帮助信息（一般使用 h 或 help）；\n",
    "\n",
    "输入指令，获取历史查询信息（一般使用 history）；\n",
    "\n",
    "输入指令，退出程序的交互（一般使用 quit 或 exit）；\n",
    "\n",
    "考虑到是否免费、可靠以及是否含有python demo，我们选择的天气API为心知天气API。\n",
    "\n",
    "首先需要注册获取API秘钥，之后我们可以使用requests调取信息了。\n",
    "\n",
    "在使用requests之前，需要在终端对其进行安装：pip install requests，然后就可以正常调用了，让我们来看一个例子："
   ]
  },
  {
   "cell_type": "code",
   "execution_count": null,
   "metadata": {
    "collapsed": true
   },
   "outputs": [],
   "source": [
    "import requests\n",
    "\n",
    "result = requests.get('https://api.seniverse.com/v3/weather/grid/now.json')"
   ]
  },
  {
   "cell_type": "markdown",
   "metadata": {},
   "source": [
    "现在，我们有一个名为result的Response对象。我们可以从这个对象中获取所有我们想要的信息。\n",
    "\n",
    "get是http协议中最常用的方法之一，另一个是post，我们来看一下他们的区别：\n",
    "\n",
    "1.GET - 从指定的资源请求数据。\n",
    "\n",
    "2.POST - 向指定的资源提交要被处理的数据。\n",
    "\n",
    "接下来，我们使用requests模块发送请求(以北京为例)："
   ]
  },
  {
   "cell_type": "code",
   "execution_count": 17,
   "metadata": {},
   "outputs": [
    {
     "name": "stdout",
     "output_type": "stream",
     "text": [
      "{\"results\":[{\"location\":{\"id\":\"WX4FBXXFKE4F\",\"name\":\"北京\",\"country\":\"CN\",\"path\":\"北京,北京,中国\",\"timezone\":\"Asia/Shanghai\",\"timezone_offset\":\"+08:00\"},\"now\":{\"text\":\"晴\",\"code\":\"1\",\"temperature\":\"21\"},\"last_update\":\"2017-08-26T01:45:00+08:00\"}]}\n"
     ]
    }
   ],
   "source": [
    "import requests\n",
    "\n",
    "API = 'https://api.seniverse.com/v3/weather/now.json'\n",
    "\n",
    "result = requests.get(API, params={\n",
    "        'key': 'mog6dosgivjijizh',\n",
    "        'location': '北京',\n",
    "        'language': 'zh-Hans',\n",
    "        'unit': 'c'\n",
    "    }, timeout=1)\n",
    "print(result.text)"
   ]
  },
  {
   "cell_type": "markdown",
   "metadata": {},
   "source": [
    "key:你注册之后的API秘钥；\n",
    "\n",
    "location：需要查询的城市名，可以是中文名称，也可以是拼音亦或是城市ID等；\n",
    "\n",
    "language：语言可以不写，一般默认为简体中文（'zh-Hans'）；\n",
    "\n",
    "unit：温度单位，可以不写，也可以填‘c’或者‘f’；\n",
    "\n",
    "timeout:延迟时间。\n",
    "\n",
    "在向心知天气API发送请求之后，我们观察到，提取的是json格式信息内容，前面我们已经知道，JSON 是一种存储和交换文本信息的语法。它支持多种编程语言，也是目前最流行的数据交换方式。\n",
    "\n",
    "我们可以引入json库，利用json.loads(requests.text)来将它转换成字典，关于json的作用，我们用一个例子来说明："
   ]
  },
  {
   "cell_type": "code",
   "execution_count": 18,
   "metadata": {},
   "outputs": [
    {
     "data": {
      "text/plain": [
       "['foo', {'bar': ['baz', None, 1.0, 2]}]"
      ]
     },
     "execution_count": 18,
     "metadata": {},
     "output_type": "execute_result"
    }
   ],
   "source": [
    "import json\n",
    "\n",
    "json.loads('[\"foo\", {\"bar\":[\"baz\", null, 1.0, 2]}]')"
   ]
  },
  {
   "cell_type": "code",
   "execution_count": 19,
   "metadata": {},
   "outputs": [
    {
     "data": {
      "text/plain": [
       "'[\"foo\", {\"bar\": [\"baz\", null, 1.0, 2]}]'"
      ]
     },
     "execution_count": 19,
     "metadata": {},
     "output_type": "execute_result"
    }
   ],
   "source": [
    "json.dumps(['foo', {'bar': ('baz', None, 1.0, 2)}])"
   ]
  },
  {
   "cell_type": "markdown",
   "metadata": {},
   "source": [
    "由上可知，json中loads方法是是将从API取得的json数据解码为python可识别的数据，而dumps方法则是将相反。"
   ]
  },
  {
   "cell_type": "code",
   "execution_count": 20,
   "metadata": {},
   "outputs": [
    {
     "data": {
      "text/plain": [
       "{'results': [{'last_update': '2017-08-26T01:45:00+08:00',\n",
       "   'location': {'country': 'CN',\n",
       "    'id': 'WX4FBXXFKE4F',\n",
       "    'name': '北京',\n",
       "    'path': '北京,北京,中国',\n",
       "    'timezone': 'Asia/Shanghai',\n",
       "    'timezone_offset': '+08:00'},\n",
       "   'now': {'code': '1', 'temperature': '21', 'text': '晴'}}]}"
      ]
     },
     "execution_count": 20,
     "metadata": {},
     "output_type": "execute_result"
    }
   ],
   "source": [
    "result_info = json.loads(result.text)\n",
    "print(result_info)"
   ]
  },
  {
   "cell_type": "markdown",
   "metadata": {},
   "source": [
    "然后我们可以从这个字典中取出我们需要的天气信息："
   ]
  },
  {
   "cell_type": "code",
   "execution_count": 11,
   "metadata": {},
   "outputs": [
    {
     "name": "stdout",
     "output_type": "stream",
     "text": [
      "北京的天气是多云,温度是27,最后更新时间：2017-08-26T14:25:00+08:00\n"
     ]
    }
   ],
   "source": [
    "import json\n",
    "import requests\n",
    "API = 'https://api.seniverse.com/v3/weather/now.json'\n",
    "\n",
    "result = requests.get(API, params={\n",
    "        'key': 'mog6dosgivjijizh',\n",
    "        'location': '北京',\n",
    "        'language': 'zh-Hans',\n",
    "        'unit': 'c'\n",
    "    }, timeout=1)\n",
    "\n",
    "result_info = json.loads(result.text)\n",
    "weather_dic = result_info['results'][0]\n",
    "city_name = weather_dic['location']['name']\n",
    "text = weather_dic['now']['text']\n",
    "temp = weather_dic['now']['temperature']\n",
    "last_update = weather_dic['last_update']\n",
    "weather_str = '{}的天气是{},温度是{},最后更新时间：{}'.format(city_name,text,temp,last_update)\n",
    "print(weather_str)"
   ]
  },
  {
   "cell_type": "markdown",
   "metadata": {},
   "source": [
    "需要说明一点，心知天气的免费用户是不提供县级城市的天气信息的，所以当你输入后，print(result.text)会显示:{\"status\":\"You don't have access to data of this city.\",\"status_code\":\"AP010006\"}权限，输出的结果也会出现KeyError: 'results'的键错误提示。而且，当你输入一个不存在的城市时，也会出现相同的错误，为了避免这种情况发生，我们引入try...except KeyError 语句："
   ]
  },
  {
   "cell_type": "code",
   "execution_count": null,
   "metadata": {
    "collapsed": true
   },
   "outputs": [],
   "source": [
    "......\n",
    "try:\n",
    "    result_info = json.loads(result.text)\n",
    "    weather_dic = result_info['results'][0]\n",
    "    city_name = weather_dic['location']['name']\n",
    "    text = weather_dic['now']['text']\n",
    "    temp = weather_dic['now']['temperature']\n",
    "    last_update = weather_dic['last_update']\n",
    "    weather_str = '{}的天气是{},温度是{},最后更新时间：{}'.format(city_name,text,temp,last_update)\n",
    "    rint(weather_str)\n",
    "except KeyError:\n",
    "    pass"
   ]
  },
  {
   "cell_type": "markdown",
   "metadata": {},
   "source": [
    "except KeyError后面接我们希望当此类错误出现后应该执行的程序段。\n",
    "\n",
    "借用requests 向API发出请求并处理接收回来的数据信息基本已经完成，接下来我们再来完成本章的基础任务："
   ]
  },
  {
   "cell_type": "code",
   "execution_count": null,
   "metadata": {
    "collapsed": true
   },
   "outputs": [],
   "source": [
    "while True:\n",
    "    user_input = input('请输入需要查询的城市：')\n",
    "    if user_input in ['h','help']:\n",
    "            print('''\n",
    "                输入城市名,查询该该城市的天气;\n",
    "                输入help,获取帮助文档;\n",
    "                输入history,获取查询历史;\n",
    "                输入quit,退出天气查询系统.\n",
    "            ''')\n",
    "        elif user_input in ['q','quit']:\n",
    "            print('已退出天气查询系统！')\n",
    "            break\n",
    "        elif user_input == 'history':\n",
    "            print('你查询的历史信息为：')\n",
    "            for item in history_list:\n",
    "                print(item)\n",
    "        else:\n",
    "            print('你输入的信息有误，请重新输入！')"
   ]
  },
  {
   "cell_type": "markdown",
   "metadata": {},
   "source": [
    "最后，为了体现程序的易读性和健壮性，我们把程序包装成函数："
   ]
  },
  {
   "cell_type": "code",
   "execution_count": null,
   "metadata": {},
   "outputs": [],
   "source": [
    "import requests\n",
    "import json\n",
    "\n",
    "url = 'https://api.seniverse.com/v3/weather/daily.json'\n",
    "#def fetchWeather(location):\n",
    "\n",
    "def getweather(location):\n",
    "    result = requests.get(url, params={\n",
    "            'key': 'mog6dosgivjijizh',\n",
    "            'location': location,\n",
    "            'language': 'zh-Hans',\n",
    "            'unit': ''\n",
    "        }, timeout=2)\n",
    "    return json.loads(result.text) \n",
    "\n",
    "def print_weather(result_info):\n",
    "    city_name = result_info['results'][0]['location']['name']\n",
    "    date = result_info['results'][0]['daily'][0]['date']\n",
    "    text_day = result_info['results'][0]['daily'][0]['text_day']\n",
    "    text_night =result_info['results'][0]['daily'][0]['text_night']\n",
    "    high = result_info['results'][0]['daily'][0]['high']\n",
    "    low = result_info['results'][0]['daily'][0]['low']\n",
    "    wind_direction =result_info['results'][0]['daily'][0]['wind_direction']\n",
    "    wind_scale = result_info['results'][0]['daily'][0]['wind_scale']\n",
    "    weather_info = '{}：{}的天气：白天{}，夜晚{}，温度：{}~{}，{}风{}级' .format(date,city_name,text_day,text_night,high,low,wind_direction,wind_scale)\n",
    "    return weather_info\n",
    "history_list = []\n",
    "\n",
    "while True:\n",
    "    user_input = input('输入一个城市：')\n",
    "    try:\n",
    "        result_info = getweather(user_input)\n",
    "        print(print_weather(result_info))\n",
    "        history_list.append(print_weather(result_info))\n",
    "    except KeyError:\n",
    "        if user_input in ['h','help']:\n",
    "            print('''\n",
    "                输入城市名,查询该该城市的天气;\n",
    "                输入help,获取帮助文档;\n",
    "                输入history,获取查询历史;\n",
    "                输入quit,退出天气查询系统.\n",
    "\t\t\t    ''')\n",
    "        elif user_input == 'history':\n",
    "            if not history_list:\n",
    "                print('你还没有查询历史。')\n",
    "            else:\n",
    "                for item in history_list:\n",
    "                    print(item)\n",
    "        elif user_input in ['q','quit']:\n",
    "            print('退出天气查询系统')\n",
    "            break\n",
    "        else：\n",
    "        print('你输入的信息有误，请重新输入。')"
   ]
  },
  {
   "cell_type": "code",
   "execution_count": null,
   "metadata": {
    "collapsed": true
   },
   "outputs": [],
   "source": []
  }
 ],
 "metadata": {
  "kernelspec": {
   "display_name": "Python 3",
   "language": "python",
   "name": "python3"
  },
  "language_info": {
   "codemirror_mode": {
    "name": "ipython",
    "version": 3
   },
   "file_extension": ".py",
   "mimetype": "text/x-python",
   "name": "python",
   "nbconvert_exporter": "python",
   "pygments_lexer": "ipython3",
   "version": "3.6.1"
  }
 },
 "nbformat": 4,
 "nbformat_minor": 2
}
