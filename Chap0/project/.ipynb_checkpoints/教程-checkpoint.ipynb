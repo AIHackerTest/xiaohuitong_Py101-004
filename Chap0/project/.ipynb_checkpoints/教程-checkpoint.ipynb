{
 "cells": [
  {
   "cell_type": "markdown",
   "metadata": {},
   "source": [
    "### python的定义和特点：\n",
    "\n",
    "python官网给出的定义是：\n",
    "\n",
    "> python就是一种解释型的、面向对象的带有动态语义的高级程序设计语言.\n",
    "\n",
    "可能对此你不太好理解，总的来说，与C和C++等编译型语言不同，python可以让你节约编程时间，并且编写的程序简单易懂，虽然速度没有前者快，但其特有的语言风格已经让越来越多的人开始使用它。\n",
    "\n",
    "python语言分为两种：python2系列和python3系列，两者本质上的区别是不大的，自己如果感兴趣可以下去了解。鉴于现在python3比较符合时代发展的趋势，我们这个教程就用python3来演示。那么，就让我们一起来领略python的风采吧！\n",
    "\n",
    "### 初入python\n",
    "\n",
    "在我们下载并安装完成python3之后，启动python的交互式解释器，可以先输入简单的代码看看是否能正常工作："
   ]
  },
  {
   "cell_type": "code",
   "execution_count": 1,
   "metadata": {},
   "outputs": [
    {
     "name": "stdout",
     "output_type": "stream",
     "text": [
      "hello,world\n"
     ]
    }
   ],
   "source": [
    "print(\"hello,world\")"
   ]
  },
  {
   "cell_type": "markdown",
   "metadata": {},
   "source": [
    "打印成功，说明我们可以正常的使用了。\n",
    "print()函数用来在屏幕上打印文本，当我们写好代码，按下回车键，就会出现上述结果，python中双引号\"\"和单引号''是可以互换的，如果引号里面穿插有引号时，为了避免出错，我们可以使用转义字符反斜杠‘\\’，例如："
   ]
  },
  {
   "cell_type": "code",
   "execution_count": 2,
   "metadata": {},
   "outputs": [
    {
     "name": "stdout",
     "output_type": "stream",
     "text": [
      "i don't know who he is.\n"
     ]
    }
   ],
   "source": [
    "print(\"i don\\'t know who he is.\")"
   ]
  },
  {
   "cell_type": "markdown",
   "metadata": {},
   "source": [
    "有了转义字符反斜杠‘\\’，我们就可以放心的打印，再也不用担心出错了。除此之外，我们还应该记住以下几个常用的转义字符及其功能：\n",
    "\\n:换行符\n",
    "\\t:水平制表符\n",
    "\\r：回车符\n",
    "......"
   ]
  },
  {
   "cell_type": "markdown",
   "metadata": {},
   "source": [
    "### 数学运算\n",
    "\n",
    "python也可以作为一个非常强大的计算器来使用，加减乘除运算都是内置的，并可以按照运算的优先顺序处理。和python2不同的是，在python3中，一个整数和一个整数相除，将显示一个浮点数，即使没有余数的情况下也是如此："
   ]
  },
  {
   "cell_type": "code",
   "execution_count": 11,
   "metadata": {},
   "outputs": [
    {
     "data": {
      "text/plain": [
       "1650.0"
      ]
     },
     "execution_count": 11,
     "metadata": {},
     "output_type": "execute_result"
    }
   ],
   "source": [
    "30+40*(43-3)+40/2"
   ]
  },
  {
   "cell_type": "code",
   "execution_count": 12,
   "metadata": {},
   "outputs": [
    {
     "data": {
      "text/plain": [
       "20.0"
      ]
     },
     "execution_count": 12,
     "metadata": {},
     "output_type": "execute_result"
    }
   ],
   "source": [
    "40/2"
   ]
  },
  {
   "cell_type": "markdown",
   "metadata": {},
   "source": [
    "### 变量\n",
    "\n",
    "python中的变量很好理解，它基本上就是代表或引用某个值的名字，举例来说，如果想把x代表3，即把3赋给x："
   ]
  },
  {
   "cell_type": "code",
   "execution_count": 8,
   "metadata": {
    "collapsed": true
   },
   "outputs": [],
   "source": [
    "x = 3"
   ]
  },
  {
   "cell_type": "markdown",
   "metadata": {},
   "source": [
    "这种操作就叫赋值，变量在赋值之后，就可以在表达式中使用(使用变量之前，要给变量赋值，不然没有值得变量是没有意义的)："
   ]
  },
  {
   "cell_type": "code",
   "execution_count": 9,
   "metadata": {},
   "outputs": [
    {
     "data": {
      "text/plain": [
       "6"
      ]
     },
     "execution_count": 9,
     "metadata": {},
     "output_type": "execute_result"
    }
   ],
   "source": [
    "x*2"
   ]
  },
  {
   "cell_type": "code",
   "execution_count": 2,
   "metadata": {},
   "outputs": [
    {
     "name": "stdout",
     "output_type": "stream",
     "text": [
      "this first variables are this is string,this is another atring,4,5\n"
     ]
    }
   ],
   "source": [
    "first_string = \"this is string\"\n",
    "second_string = \"this is another atring\"\n",
    "first_number = 4\n",
    "second_number = 5\n",
    "print(\"this first variables are %s,%s,%d,%d\" % (first_string,second_string,first_number,second_number ))"
   ]
  },
  {
   "cell_type": "markdown",
   "metadata": {},
   "source": [
    "在上述例子中，%s，%d是针对字符串和数字的格式说明符，字符串外面的%表明它后面的所有值会被插入到字符串中相应的格式说明符处，我们在讲字符串时还会讲到。"
   ]
  },
  {
   "cell_type": "markdown",
   "metadata": {},
   "source": [
    "#### 字符串\n",
    "\n",
    "我们在初入python中的第一个例子是这样的：print(\"hello,world\")，那么\"hello,world\"是什么呢？没错，就是字符串，字符串是不能修改的，几乎在所有的python程序中都会存在，并且有多种用法，接下来我们先讲一下如何拼接字符串。拼接字符串有多种方法，有简单的用‘+’运算符实现的，也可以用上述例子中格式化字符串的方式："
   ]
  },
  {
   "cell_type": "code",
   "execution_count": 4,
   "metadata": {},
   "outputs": [
    {
     "name": "stdout",
     "output_type": "stream",
     "text": [
      "hello,world!\n",
      "hello,world!\n"
     ]
    }
   ],
   "source": [
    "print(\"hello,\"+\"world!\")\n",
    "x = 'hello,'\n",
    "y = 'world!'\n",
    "print(x+y)"
   ]
  },
  {
   "cell_type": "code",
   "execution_count": 6,
   "metadata": {},
   "outputs": [
    {
     "name": "stdout",
     "output_type": "stream",
     "text": [
      "hello,world!\n"
     ]
    }
   ],
   "source": [
    "f = \"hello,%s!\"\n",
    "value = ('world')\n",
    "print(f % value)"
   ]
  },
  {
   "cell_type": "markdown",
   "metadata": {},
   "source": [
    "字符串有很多有用的方法，在这里只介绍一些有用的方法：\n",
    "\n",
    "find方法可以在一个较长的字符串中查找子字符串，它返回子串所在位置的最左端索引，如果没有找到，则返回-1："
   ]
  },
  {
   "cell_type": "code",
   "execution_count": 7,
   "metadata": {},
   "outputs": [
    {
     "data": {
      "text/plain": [
       "6"
      ]
     },
     "execution_count": 7,
     "metadata": {},
     "output_type": "execute_result"
    }
   ],
   "source": [
    "s = 'hello,good morning everyone!'\n",
    "s.find('good')"
   ]
  },
  {
   "cell_type": "code",
   "execution_count": 8,
   "metadata": {},
   "outputs": [
    {
     "data": {
      "text/plain": [
       "-1"
      ]
     },
     "execution_count": 8,
     "metadata": {},
     "output_type": "execute_result"
    }
   ],
   "source": [
    "s.find('world')"
   ]
  },
  {
   "cell_type": "markdown",
   "metadata": {},
   "source": [
    "jion方法是非常重要的字符串方法，也可以用来拼接字符串，它是split方法的逆方法，用来在队列中添加元素："
   ]
  },
  {
   "cell_type": "code",
   "execution_count": 11,
   "metadata": {},
   "outputs": [
    {
     "data": {
      "text/plain": [
       "'hello,world'"
      ]
     },
     "execution_count": 11,
     "metadata": {},
     "output_type": "execute_result"
    }
   ],
   "source": [
    "seq = ['hello','world']\n",
    "s = ','\n",
    "s.join(seq)"
   ]
  },
  {
   "cell_type": "markdown",
   "metadata": {},
   "source": [
    "lower方法返回字符串的小写字母版本，如果想要编写‘不区分大小写’的代码的话，那么这个方法就派上用场了："
   ]
  },
  {
   "cell_type": "code",
   "execution_count": 12,
   "metadata": {},
   "outputs": [
    {
     "data": {
      "text/plain": [
       "'hello,world'"
      ]
     },
     "execution_count": 12,
     "metadata": {},
     "output_type": "execute_result"
    }
   ],
   "source": [
    "'Hello,World'.lower()"
   ]
  },
  {
   "cell_type": "markdown",
   "metadata": {},
   "source": [
    "split方法是join的逆方法，用来将字符串分割成序列："
   ]
  },
  {
   "cell_type": "code",
   "execution_count": 13,
   "metadata": {},
   "outputs": [
    {
     "data": {
      "text/plain": [
       "['1', '2', '3', '4', '5']"
      ]
     },
     "execution_count": 13,
     "metadata": {},
     "output_type": "execute_result"
    }
   ],
   "source": [
    "'1+2+3+4+5'.split('+')"
   ]
  },
  {
   "cell_type": "raw",
   "metadata": {},
   "source": [
    "如果不提供任何分隔符，程序会把所有的空格作为分隔符。\n",
    "\n",
    "除此之外，字符串的其他方法还有replace、strip等等，自己可以下去了解。"
   ]
  },
  {
   "cell_type": "markdown",
   "metadata": {},
   "source": [
    "#### 元组\n",
    "\n",
    "和字符串一样，是不可修改的，创建元组的方法很简单：在小括号里面用逗号分隔一些值，就自动创建了元组。若要创建包含一个元素的元组，必须在该元素下加一个逗号，否则将会创建一个字符串，而且，元组的第一个位置是0，然后依次类推。"
   ]
  },
  {
   "cell_type": "code",
   "execution_count": 14,
   "metadata": {},
   "outputs": [
    {
     "data": {
      "text/plain": [
       "(1, 2, 3)"
      ]
     },
     "execution_count": 14,
     "metadata": {},
     "output_type": "execute_result"
    }
   ],
   "source": [
    "(1,2,3)"
   ]
  },
  {
   "cell_type": "code",
   "execution_count": 15,
   "metadata": {},
   "outputs": [
    {
     "data": {
      "text/plain": [
       "(1,)"
      ]
     },
     "execution_count": 15,
     "metadata": {},
     "output_type": "execute_result"
    }
   ],
   "source": [
    "(1,)"
   ]
  },
  {
   "cell_type": "markdown",
   "metadata": {},
   "source": [
    "元组其实并不复杂，除了创建元组和访问元组之外，也没有太多其他的操作，可以参照其他的序列来实现。"
   ]
  },
  {
   "cell_type": "markdown",
   "metadata": {},
   "source": [
    "#### 列表\n",
    "\n",
    "列表是可变的，因为字符串不能像列表一样的修改，所以根据字符串创建列表会很有用，list函数可以实现这个操作（list适用于所有类型的序列，而不只是字符串）："
   ]
  },
  {
   "cell_type": "code",
   "execution_count": 17,
   "metadata": {},
   "outputs": [
    {
     "data": {
      "text/plain": [
       "['h', 'e', 'l', 'l', 'o']"
      ]
     },
     "execution_count": 17,
     "metadata": {},
     "output_type": "execute_result"
    }
   ],
   "source": [
    "list('hello')"
   ]
  },
  {
   "cell_type": "markdown",
   "metadata": {},
   "source": [
    "列表也有很多内置的方法，例如：\n",
    "\n",
    "count方法：统计某个元素在列表中出现的次数。\n",
    "\n",
    "index方法：用于从列表中找出某个值的第一个匹配项的索引位置。\n",
    "\n",
    "append方法：用于在列表尾部追加新的对象。\n",
    "\n",
    "pop方法：会移除列表中的一个元素（默认是最后一个），并且返回该元素的值。\n",
    "\n",
    "sort方法：用于原位置对列表进行排序，意味着改变原来的列表，而不是简单的返回一个已知列表的副本。\n",
    "\n",
    "......\n",
    "\n",
    "例子如下："
   ]
  },
  {
   "cell_type": "code",
   "execution_count": 18,
   "metadata": {},
   "outputs": [
    {
     "data": {
      "text/plain": [
       "2"
      ]
     },
     "execution_count": 18,
     "metadata": {},
     "output_type": "execute_result"
    }
   ],
   "source": [
    "[1,3,2,2,3,3,3].count(2)"
   ]
  },
  {
   "cell_type": "code",
   "execution_count": 19,
   "metadata": {},
   "outputs": [
    {
     "data": {
      "text/plain": [
       "2"
      ]
     },
     "execution_count": 19,
     "metadata": {},
     "output_type": "execute_result"
    }
   ],
   "source": [
    "a = ['we','are','the','best','friend']\n",
    "a.index('the')"
   ]
  },
  {
   "cell_type": "code",
   "execution_count": 20,
   "metadata": {},
   "outputs": [
    {
     "data": {
      "text/plain": [
       "[1, 2, 3, 4, 5]"
      ]
     },
     "execution_count": 20,
     "metadata": {},
     "output_type": "execute_result"
    }
   ],
   "source": [
    "a = [1,2,3,4]\n",
    "a.append(5)\n",
    "a"
   ]
  },
  {
   "cell_type": "code",
   "execution_count": 21,
   "metadata": {},
   "outputs": [
    {
     "data": {
      "text/plain": [
       "4"
      ]
     },
     "execution_count": 21,
     "metadata": {},
     "output_type": "execute_result"
    }
   ],
   "source": [
    "a = [1,2,3,4]\n",
    "a.pop()"
   ]
  },
  {
   "cell_type": "code",
   "execution_count": 22,
   "metadata": {},
   "outputs": [
    {
     "data": {
      "text/plain": [
       "[1, 2, 3]"
      ]
     },
     "execution_count": 22,
     "metadata": {},
     "output_type": "execute_result"
    }
   ],
   "source": [
    "a"
   ]
  },
  {
   "cell_type": "code",
   "execution_count": 23,
   "metadata": {},
   "outputs": [
    {
     "data": {
      "text/plain": [
       "[1, 1, 2, 3, 5, 8]"
      ]
     },
     "execution_count": 23,
     "metadata": {},
     "output_type": "execute_result"
    }
   ],
   "source": [
    "b = [1,5,3,8,1,2]\n",
    "b.sort()\n",
    "b"
   ]
  },
  {
   "cell_type": "markdown",
   "metadata": {},
   "source": [
    "#### 字典\n",
    "\n",
    "字典是可以修改的，内部的值并没有特定的顺序，但都存储在一个特定的键（key）里，键可以是字符串，数字或者元组。\n",
    "字典可以通过下列方式创建："
   ]
  },
  {
   "cell_type": "markdown",
   "metadata": {},
   "source": [
    "people = {\"name\":\"xiaoming\",\"age\":25,\"country\":\"China\"}"
   ]
  },
  {
   "cell_type": "markdown",
   "metadata": {},
   "source": [
    "还可以用dict函数："
   ]
  },
  {
   "cell_type": "code",
   "execution_count": 25,
   "metadata": {},
   "outputs": [
    {
     "data": {
      "text/plain": [
       "{'age': 25, 'country': 'china', 'name': 'xiaoming'}"
      ]
     },
     "execution_count": 25,
     "metadata": {},
     "output_type": "execute_result"
    }
   ],
   "source": [
    "items = [('name','xiaoming'),('age',25),('country','china')]\n",
    "d = dict(items)\n",
    "d"
   ]
  },
  {
   "cell_type": "markdown",
   "metadata": {},
   "source": [
    "字典方法：\n",
    "\n",
    "clear方法：清楚字典里的所有项。\n",
    "\n",
    "copy方法：返回一个具有相同键值对的新字典。\n",
    "\n",
    "fromkeys方法：使用给定的键建立新的字典。\n",
    "\n",
    "get方法：访问一个不存在的键时，不会出现任何异常，而得到了none值。\n",
    "\n",
    "has_key方法：可以检测字典中是否含有给出的键。\n",
    "\n",
    "items方法：将所有的字典项以列表的方式返回，这些列表项每一项都来自于（键，值），但项在返回时没有特殊的顺序。\n",
    "\n",
    "......"
   ]
  },
  {
   "cell_type": "code",
   "execution_count": 27,
   "metadata": {},
   "outputs": [
    {
     "data": {
      "text/plain": [
       "{}"
      ]
     },
     "execution_count": 27,
     "metadata": {},
     "output_type": "execute_result"
    }
   ],
   "source": [
    "d.clear()\n",
    "d"
   ]
  },
  {
   "cell_type": "code",
   "execution_count": 28,
   "metadata": {},
   "outputs": [
    {
     "data": {
      "text/plain": [
       "{'age': 25, 'country': 'china', 'name': 'xiaoming'}"
      ]
     },
     "execution_count": 28,
     "metadata": {},
     "output_type": "execute_result"
    }
   ],
   "source": [
    "x = {'age': 25, 'country': 'china', 'name': 'xiaoming'}\n",
    "y = x.copy()\n",
    "y"
   ]
  },
  {
   "cell_type": "code",
   "execution_count": 30,
   "metadata": {},
   "outputs": [
    {
     "data": {
      "text/plain": [
       "{'age': None, 'name': None}"
      ]
     },
     "execution_count": 30,
     "metadata": {},
     "output_type": "execute_result"
    }
   ],
   "source": [
    "{}.fromkeys(['name','age'])"
   ]
  },
  {
   "cell_type": "code",
   "execution_count": 33,
   "metadata": {},
   "outputs": [
    {
     "name": "stdout",
     "output_type": "stream",
     "text": [
      "None\n"
     ]
    }
   ],
   "source": [
    "d={}\n",
    "print (d.get('name'))"
   ]
  },
  {
   "cell_type": "markdown",
   "metadata": {},
   "source": [
    "### 条件和循环语句\n",
    "#### 条件语句\n",
    "\n",
    "首先我们来看一个例子："
   ]
  },
  {
   "cell_type": "code",
   "execution_count": 34,
   "metadata": {},
   "outputs": [
    {
     "name": "stdout",
     "output_type": "stream",
     "text": [
      "you are right\n"
     ]
    }
   ],
   "source": [
    "if 1<2:\n",
    "    print('you are right')"
   ]
  },
  {
   "cell_type": "markdown",
   "metadata": {},
   "source": [
    "这就是if语句，它可以实现条件执行，如果条件（在if和冒号之间的表达式）判断为真，那么后面的语句块就会被执行，\n",
    "如果判断为假，则不执行。"
   ]
  },
  {
   "cell_type": "code",
   "execution_count": 35,
   "metadata": {},
   "outputs": [
    {
     "name": "stdout",
     "output_type": "stream",
     "text": [
      "you are wrong\n"
     ]
    }
   ],
   "source": [
    "if 1>2:\n",
    "    print ('you are right')\n",
    "else:\n",
    "    print('you are wrong')"
   ]
  },
  {
   "cell_type": "markdown",
   "metadata": {},
   "source": [
    "在这个例子中，我增添了一个else子句，如果第一个语句没有被执行（因为条件判断为假），就执行第二个语句块。\n",
    "如果需要检查多个条件，就需要使用elif子句："
   ]
  },
  {
   "cell_type": "code",
   "execution_count": 40,
   "metadata": {},
   "outputs": [
    {
     "name": "stdout",
     "output_type": "stream",
     "text": [
      "enter a number:-1\n",
      "the number is negative\n"
     ]
    }
   ],
   "source": [
    "num = int(input('enter a number:'))\n",
    "if num>0:\n",
    "    print('the number is positive')\n",
    "elif num<0:\n",
    "    print('the number is negative')\n",
    "else:\n",
    "    print('the number is zero')"
   ]
  },
  {
   "cell_type": "markdown",
   "metadata": {},
   "source": [
    "input()函数可以读取用户的输入，让我们看几个例子："
   ]
  },
  {
   "cell_type": "code",
   "execution_count": 42,
   "metadata": {},
   "outputs": [
    {
     "name": "stdout",
     "output_type": "stream",
     "text": [
      "enter something:1\n"
     ]
    },
    {
     "data": {
      "text/plain": [
       "str"
      ]
     },
     "execution_count": 42,
     "metadata": {},
     "output_type": "execute_result"
    }
   ],
   "source": [
    "number1 = input(\"enter something:\")\n",
    "type(number1)"
   ]
  },
  {
   "cell_type": "code",
   "execution_count": 1,
   "metadata": {},
   "outputs": [
    {
     "name": "stdout",
     "output_type": "stream",
     "text": [
      "enter something:'1'\n"
     ]
    },
    {
     "data": {
      "text/plain": [
       "str"
      ]
     },
     "execution_count": 1,
     "metadata": {},
     "output_type": "execute_result"
    }
   ],
   "source": [
    "number2 = input(\"enter something:\")\n",
    "type(number2)"
   ]
  },
  {
   "cell_type": "markdown",
   "metadata": {},
   "source": [
    "由此可以看出，无论用户输入数字还是字符串，input（）返回的都会字符串格式，所以，在运用的过程中，要根据具体题中的内容，改变返回值得类型。"
   ]
  },
  {
   "cell_type": "markdown",
   "metadata": {},
   "source": [
    "#### 循环语句\n",
    "\n",
    "现在你已经知道了当条件为真（或假）时如何执行了，但如果碰到需要重复多次执行的程序，又该怎么办呢？这个时候，我们就要用到我们的循环语句了。循环语句有while语句和for语句两种，前者非常的灵活，它可以在任何条件为真的情况下重复执行某一个语句，例如："
   ]
  },
  {
   "cell_type": "code",
   "execution_count": 1,
   "metadata": {},
   "outputs": [
    {
     "name": "stdout",
     "output_type": "stream",
     "text": [
      "1\n",
      "2\n",
      "3\n",
      "4\n",
      "5\n",
      "6\n",
      "7\n",
      "8\n",
      "9\n",
      "10\n"
     ]
    }
   ],
   "source": [
    "x = 1\n",
    "while x<=10:\n",
    "    print(x)\n",
    "    x += 1"
   ]
  },
  {
   "cell_type": "markdown",
   "metadata": {},
   "source": [
    "一般情况下，使用while循环就足够了，但要是遇到为一个序列的每一个元素都执行一个代码块的情况，就要用到for循环了:"
   ]
  },
  {
   "cell_type": "code",
   "execution_count": 2,
   "metadata": {},
   "outputs": [
    {
     "name": "stdout",
     "output_type": "stream",
     "text": [
      "1\n",
      "2\n",
      "3\n",
      "4\n",
      "5\n",
      "6\n",
      "7\n",
      "8\n",
      "9\n",
      "10\n"
     ]
    }
   ],
   "source": [
    "number = [1,2,3,4,5,6,7,8,9,10]\n",
    "for num in number:\n",
    "    print(num)"
   ]
  },
  {
   "cell_type": "markdown",
   "metadata": {},
   "source": [
    "我们还可以更简洁一点："
   ]
  },
  {
   "cell_type": "code",
   "execution_count": 3,
   "metadata": {},
   "outputs": [
    {
     "name": "stdout",
     "output_type": "stream",
     "text": [
      "0\n",
      "1\n",
      "2\n",
      "3\n",
      "4\n",
      "5\n",
      "6\n",
      "7\n",
      "8\n",
      "9\n"
     ]
    }
   ],
   "source": [
    "for num in range(0,10):\n",
    "    print (num)"
   ]
  },
  {
   "cell_type": "markdown",
   "metadata": {},
   "source": [
    "range函数的工作方式类似于分片，他包含下限，但不包含上限，如果希望下限为0，可以只提供上限."
   ]
  },
  {
   "cell_type": "markdown",
   "metadata": {},
   "source": [
    "从上面while和for循环的简单例子可以看出，for循环比while循环更简洁易用，而且，while如果使用不慎，一不小心就会变成死循环，永远运行下去。鉴于while循环比较难以掌控，如果能使用for循环的地方，就尽量不要使用while循环。\n",
    "\n",
    "一般来说，循环会一直执行到条件为假，或者到序列元素用完时，但有时候可能需要提前中断一个循环，这个时候可以使用break语句。"
   ]
  },
  {
   "cell_type": "code",
   "execution_count": 6,
   "metadata": {},
   "outputs": [
    {
     "name": "stdout",
     "output_type": "stream",
     "text": [
      "i get it!\n",
      "i get it!\n",
      "i get it!\n",
      "i get it!\n",
      "i get it!\n"
     ]
    }
   ],
   "source": [
    "for num in range(10):\n",
    "    if num == 5:\n",
    "        break\n",
    "    else:\n",
    "        print('i get it!')"
   ]
  },
  {
   "cell_type": "markdown",
   "metadata": {},
   "source": [
    "### 函数\n",
    "\n",
    "创建函数是组织程序的关键，那么，如何定义函数呢？我们以一个简单的例子作为说明："
   ]
  },
  {
   "cell_type": "code",
   "execution_count": 8,
   "metadata": {},
   "outputs": [
    {
     "name": "stdout",
     "output_type": "stream",
     "text": [
      "hello,world\n"
     ]
    }
   ],
   "source": [
    "def hello(name):\n",
    "    return 'hello,'+ name\n",
    "print(hello('world'))"
   ]
  },
  {
   "cell_type": "markdown",
   "metadata": {},
   "source": [
    "函数的架构包括以def为开头，后面跟一个函数名（这个函数名可以随意命名，但最好取一个有意义的名字），函数名后面的括号内包含一个参数（也可以没有），之后加一个冒号作为结尾。看过很多函数程序你会发现，有的函数最后用的是print（），而有的则用的是返回值return，两者其实是有区别的，请看一下下面的例子："
   ]
  },
  {
   "cell_type": "code",
   "execution_count": 13,
   "metadata": {},
   "outputs": [
    {
     "name": "stdout",
     "output_type": "stream",
     "text": [
      "a+b= 3\n",
      "3\n"
     ]
    }
   ],
   "source": [
    "def add(a,b):\n",
    "    print('a+b=',a+b)\n",
    "    return a+b\n",
    "\n",
    "a = 1\n",
    "b = 2\n",
    "print (add(a,b))"
   ]
  },
  {
   "cell_type": "markdown",
   "metadata": {},
   "source": [
    "怎么样，找到区别了吗？明明只打印一次，为什么会输出两行运算结果呢？其实，在我们调用add（）这个函数的时候，就已经自动的执行了print语句，这个时候return语句是没有执行的，直到我们用print打印时，此时出现的结果才是return的返回的结果。"
   ]
  },
  {
   "cell_type": "markdown",
   "metadata": {},
   "source": [
    "### 小结\n",
    "\n",
    "python语言的学习并不是一蹴而就的，以上讲解的只是python的入门知识，怎么样，简单吧！就像我们开头所讲的，python的学习要比其他语言简单易懂。虽然如此，如果想要更深入的了解，还需要自己在课下多多的练习代码，还等什么，赶紧行动吧！"
   ]
  }
 ],
 "metadata": {
  "kernelspec": {
   "display_name": "Python 3",
   "language": "python",
   "name": "python3"
  },
  "language_info": {
   "codemirror_mode": {
    "name": "ipython",
    "version": 3
   },
   "file_extension": ".py",
   "mimetype": "text/x-python",
   "name": "python",
   "nbconvert_exporter": "python",
   "pygments_lexer": "ipython3",
   "version": "3.6.1"
  }
 },
 "nbformat": 4,
 "nbformat_minor": 2
}
