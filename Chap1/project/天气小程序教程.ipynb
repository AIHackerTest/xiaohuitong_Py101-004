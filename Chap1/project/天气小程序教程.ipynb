{
 "cells": [
  {
   "cell_type": "markdown",
   "metadata": {},
   "source": [
    "问题：完成一个最简天气查询程序，运行在命令行界面，实现以下功能：\n",
    "\n",
    "1.输入城市名，返回该城市的天气数据；\n",
    "\n",
    "2.输入指令，打印帮助文档（一般使用 h 或 help）；\n",
    "\n",
    "3.输入指令，退出程序的交互（一般使用 quit 或 exit）；\n",
    "\n",
    "4.在退出程序之前，打印查询过的所有城市。\n",
    "\n",
    "首先，要完成这个程序，我们应该分成一个个小目标，使用MVP。\n",
    "\n",
    "第一，我们要解决的是怎样把文档读出来，我们有两种方法：第一种是open方法："
   ]
  },
  {
   "cell_type": "code",
   "execution_count": null,
   "metadata": {
    "collapsed": true
   },
   "outputs": [],
   "source": [
    "file = open('weather_info.txt','r'):\n",
    "list_contents = file.readlines()"
   ]
  },
  {
   "cell_type": "markdown",
   "metadata": {},
   "source": [
    "open方法默认的是读（‘r’）操作，即当你是准备读一个文件时，也可以省略r，readlines的功能是把文档里的内容以list的方式全部读出来。但open方法有一个弊端，就是在完成程序时必须要把文件关闭，执行close（），否则，后果可能会很严重哦，鉴于很多人会忘记关闭操作，所以，我们可以用下面的这个方法："
   ]
  },
  {
   "cell_type": "code",
   "execution_count": null,
   "metadata": {
    "collapsed": true
   },
   "outputs": [],
   "source": [
    "with('weather_info.txt','r') as file:\n",
    "    list_contents = file.readlines()encoding=\"utf8\""
   ]
  },
  {
   "cell_type": "markdown",
   "metadata": {},
   "source": [
    "千万不要忘了第二行的缩进哦，这个with...as方法很好的帮助我们解决了最后忘记关闭文件的失误。什么？你执行性后出现了\n",
    "\"UnicodeDecodeError: 'gbk' codec can't decode byte 0xff in position 0.....\"类似的东西，那你在with方法括号里面的最后加一个encoding=\"utf8\"试一下，关于原因，自己可以下去查一下，这样记得会更牢的。现在我们把第一步做好了，总结起来就是下面这样："
   ]
  },
  {
   "cell_type": "code",
   "execution_count": null,
   "metadata": {
    "collapsed": true
   },
   "outputs": [],
   "source": [
    "with open('weather_info.txt',encoding=\"utf8\") as file:\n",
    "    list_contents = file.readlines()"
   ]
  },
  {
   "cell_type": "markdown",
   "metadata": {},
   "source": [
    "第二步，根据问题一所示：输入城市名，返回该城市的天气数据，我们应该使用字典来处理这个问题比较好。那么怎样把读出来的数据信息转化为字典呢？\n",
    "现在数据是在一个庞大的列表里面，我们可以使用for循环语句一个一个的对他们操作："
   ]
  },
  {
   "cell_type": "code",
   "execution_count": null,
   "metadata": {
    "collapsed": true
   },
   "outputs": [],
   "source": [
    "for item in list_contents:\n",
    "    pass"
   ]
  },
  {
   "cell_type": "markdown",
   "metadata": {},
   "source": [
    "对于每一项数据，都是独立的一个字符串，如：“北京，晴\\n”，我们可以用字符串里的一个方法split，把他们拆分成一个小列表里的两个独立的量：['北京'，‘晴\\n’]，然后在分别把他们赋给两个变量，最后组成字典。在此之前，可能你有一个疑问：怎么去掉‘晴\\n’后面的反斜杠呢？我也不知道，赶紧查查字符串里面都有哪些方法吧。\n",
    "\n",
    "找到了了吗？看这一个：strip()方法，他的作用是去掉字符串两边的空白，你也可以在括号里面指定它去掉的符号，可以删去的内容很多哦，只要你标注出来，不信你可以试试。因为我们只需要去掉右边的反斜杠，所以我们就用他的弟弟：rstrip()方法。就是下面的代码："
   ]
  },
  {
   "cell_type": "code",
   "execution_count": null,
   "metadata": {
    "collapsed": true
   },
   "outputs": [],
   "source": [
    "for item in list_contents:\n",
    "    city = item.split(',')[0]\n",
    "    weather = item.split(',')[1].rstrip('\\n')\n",
    "    weather_dic[city] = weather"
   ]
  },
  {
   "cell_type": "markdown",
   "metadata": {},
   "source": [
    "提示一下，在使用eather_dic[city] = weather时，记得先把eather_dic变成字典，不然肯定会报错的。"
   ]
  },
  {
   "cell_type": "markdown",
   "metadata": {},
   "source": [
    "第三步，把数据用字典的方式存起来之后，就下来我们就可以把天气按照输入的城市打印出来了,不过我们还应该先判断一下所输入的城市在不在我们的字典里面。"
   ]
  },
  {
   "cell_type": "code",
   "execution_count": null,
   "metadata": {
    "collapsed": true
   },
   "outputs": [],
   "source": [
    "\n",
    "city_name = input('输入一个城市名：')\n",
    "if city_name in weather_dic.keys():\n",
    "    city_weather = weather_dic[city_name]\n",
    "    print('%s的天气是：%s' % (city_name,city_weather))\n",
    "else:\n",
    "    pass"
   ]
  },
  {
   "cell_type": "markdown",
   "metadata": {},
   "source": [
    "第四步，就是输入指定（h或者help），打印帮助文档。具体操作就是：输入history，打印查询过的历史信息；输入help/h打印帮助文档；输入quit退出程序。"
   ]
  },
  {
   "cell_type": "code",
   "execution_count": null,
   "metadata": {
    "collapsed": true
   },
   "outputs": [],
   "source": [
    "if  (city_name == 'help') or (city_name == 'h'):\n",
    "    print('输入城市名,查询该该城市的天气;')\n",
    "    print('输入help,获取帮助文档;')\n",
    "    print('输入history,获取查询历史;')\n",
    "    print('输入quit,退出天气查询系统.')"
   ]
  },
  {
   "cell_type": "markdown",
   "metadata": {},
   "source": [
    "第五步，我们就可以根据帮助信息，编写其他的程序了。首先是history，如果要打印历史信息，就应该在最初输入城市的时候，把那个城市名暂存在某个地方，最好是一个字典里，方便打印，打印出来也可以很直观的浏览。我们可以把第三步的程序添加一些东西："
   ]
  },
  {
   "cell_type": "code",
   "execution_count": null,
   "metadata": {
    "collapsed": true
   },
   "outputs": [],
   "source": [
    "history_dic = {}\n",
    "if city_name in weather_dic.keys():\n",
    "    city_weather = weather_dic[city_name]\n",
    "    history_dic[city_name] = city_weather\n",
    "    print('%s的天气是：%s' % (city_name,city_weather))"
   ]
  },
  {
   "cell_type": "markdown",
   "metadata": {},
   "source": [
    "然后在编写一个打印历史信息的程序："
   ]
  },
  {
   "cell_type": "code",
   "execution_count": null,
   "metadata": {
    "collapsed": true
   },
   "outputs": [],
   "source": [
    "if city_name == 'history':\n",
    "    for city_name in history_dic:\n",
    "            print(city_name,history_dic[city_name])"
   ]
  },
  {
   "cell_type": "markdown",
   "metadata": {},
   "source": [
    "第六步，按照同样的方法，我们可以很容易的编写一个退出程序，记住，别忘了在退出之前，还要把查询过的信息打印出来："
   ]
  },
  {
   "cell_type": "code",
   "execution_count": null,
   "metadata": {
    "collapsed": true
   },
   "outputs": [],
   "source": [
    "if city_name == 'quit':\n",
    "    for city_name in history_dic:\n",
    "        print(city_name,history_dic[city_name])\n",
    "        break\t"
   ]
  },
  {
   "cell_type": "markdown",
   "metadata": {},
   "source": [
    "最后一步，就是如果用户输入的既不是字典里有的城市，以及帮助信息里面的命令时，我们就要给出提示，让作者重新输入。\n",
    "把所有的这些小程序放在一个while循环语句里面，就完成了我们的编程任务了："
   ]
  },
  {
   "cell_type": "code",
   "execution_count": null,
   "metadata": {
    "collapsed": true
   },
   "outputs": [],
   "source": [
    "with open('weather_info.txt',encoding=\"utf8\") as file:\n",
    "    list_contents = file.readlines()\n",
    "weather_dic = {}\n",
    "\n",
    "for item in list_contents:\n",
    "    city = item.split(',')[0]\n",
    "    weather = item.split(',')[1].rstrip('\\n')\n",
    "    weather_dic[city] = weather\n",
    "\t\n",
    "history_dic = {}\n",
    "while True: \n",
    "    city_name = input('输入一个城市名：')\n",
    "    if city_name in weather_dic.keys():\n",
    "        city_weather = weather_dic[city_name]\n",
    "        history_dic[city_name] = city_weather\n",
    "        print('%s的天气是：%s' % (city_name,city_weather))\n",
    "    elif (city_name == 'help') or (city_name == 'h'):\n",
    "        print('输入城市名,查询该该城市的天气;')\n",
    "        print('输入help,获取帮助文档;')\n",
    "        print('输入history,获取查询历史;')\n",
    "        print('输入quit,退出天气查询系统.')\n",
    "    elif city_name == 'history':\n",
    "        for city_name in history_dic:\n",
    "            print(city_name,history_dic[city_name])\n",
    "    elif city_name == 'quit':\n",
    "        for city_name in history_dic:\n",
    "            print(city_name,history_dic[city_name])\n",
    "            break\t\n",
    "    else:\n",
    "        print('你输入的城市不存在，请重新输入。')\n",
    "\n",
    "\n",
    "\n"
   ]
  }
 ],
 "metadata": {
  "kernelspec": {
   "display_name": "Python 3",
   "language": "python",
   "name": "python3"
  },
  "language_info": {
   "codemirror_mode": {
    "name": "ipython",
    "version": 3
   },
   "file_extension": ".py",
   "mimetype": "text/x-python",
   "name": "python",
   "nbconvert_exporter": "python",
   "pygments_lexer": "ipython3",
   "version": "3.6.1"
  }
 },
 "nbformat": 4,
 "nbformat_minor": 2
}
