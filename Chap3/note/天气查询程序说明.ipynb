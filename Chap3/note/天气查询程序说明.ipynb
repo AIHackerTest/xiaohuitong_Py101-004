{
 "cells": [
  {
   "cell_type": "markdown",
   "metadata": {},
   "source": [
    "### 程序说明:\n",
    "\n",
    "\n",
    "**环境**：python3.6\n",
    "\n",
    "**API**：心知天气API\n",
    "\n",
    "**帮助信息**：\n",
    "\n",
    "输入城市名,查询该城市的天气;\n",
    "\n",
    "点击帮助按钮,获取帮助信息;\n",
    "\n",
    "点击历史按钮,获取查询历史;\n",
    "\n",
    "**功能**：\n",
    "\n",
    "查询当日中国各地市级以上城市的天气情况（包括天气、温度、风级）.\n",
    "\n"
   ]
  }
 ],
 "metadata": {
  "kernelspec": {
   "display_name": "Python 3",
   "language": "python",
   "name": "python3"
  },
  "language_info": {
   "codemirror_mode": {
    "name": "ipython",
    "version": 3
   },
   "file_extension": ".py",
   "mimetype": "text/x-python",
   "name": "python",
   "nbconvert_exporter": "python",
   "pygments_lexer": "ipython3",
   "version": "3.6.1"
  }
 },
 "nbformat": 4,
 "nbformat_minor": 2
}
